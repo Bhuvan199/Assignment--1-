{
 "cells": [
  {
   "cell_type": "markdown",
   "id": "f19faa52",
   "metadata": {},
   "source": [
    "Q.1 - Explain with an example each when to use a for loop and a while loop. "
   ]
  },
  {
   "cell_type": "code",
   "execution_count": 20,
   "id": "92aefc21",
   "metadata": {},
   "outputs": [
    {
     "name": "stdout",
     "output_type": "stream",
     "text": [
      "iteration is  0\n",
      "iteration is  1\n",
      "iteration is  2\n",
      "iteration is  3\n",
      "iteration is  4\n"
     ]
    }
   ],
   "source": [
    "# for loop is used when the iteration is known . \n",
    "# for ex..\n",
    "\n",
    "for i in range(0,5):\n",
    "    print(\"iteration is \",i)  # here we know iteration is 5..i.e..(0,1,2,3,4)"
   ]
  },
  {
   "cell_type": "code",
   "execution_count": 21,
   "id": "a3a4eeeb",
   "metadata": {},
   "outputs": [
    {
     "name": "stdout",
     "output_type": "stream",
     "text": [
      "hi\n",
      "hi\n",
      "hi\n",
      "hi\n",
      "hi\n",
      "hi\n",
      "hi\n",
      "hi\n",
      "hi\n"
     ]
    }
   ],
   "source": [
    "# while loop is used when we dont know iteration and while loop executes until the condition become false\n",
    "# for ex...\n",
    "\n",
    "count = 0\n",
    "while count<9:\n",
    "    print(\"hi\")\n",
    "    count = count+1\n",
    "# as the values of count becomes 9 ..condition becomes false and terminate loop"
   ]
  },
  {
   "cell_type": "markdown",
   "id": "caba51b1",
   "metadata": {},
   "source": [
    "Q2.  Write a python program to print the sum and product of the first 10 natural numbers using for  and while loop. \n"
   ]
  },
  {
   "cell_type": "code",
   "execution_count": 25,
   "id": "cc726a3f",
   "metadata": {},
   "outputs": [
    {
     "name": "stdout",
     "output_type": "stream",
     "text": [
      "enter any number10\n",
      "the sum is  55 and product is  3628800\n"
     ]
    }
   ],
   "source": [
    "n = int(input(\"enter any number\"))\n",
    "\n",
    "sum = 0\n",
    "prod = 1\n",
    "for i in range(1,n+1):\n",
    "    sum = sum + i\n",
    "    prod = prod * i\n",
    "    \n",
    "print(\"the sum is \",sum,\"and product is \",prod)\n",
    "\n",
    "    \n",
    "    "
   ]
  },
  {
   "cell_type": "code",
   "execution_count": 19,
   "id": "c82ce8a9",
   "metadata": {},
   "outputs": [
    {
     "name": "stdout",
     "output_type": "stream",
     "text": [
      "enter any number10\n",
      "the sum is  55 and product is  3628800\n"
     ]
    }
   ],
   "source": [
    "n = int(input(\"enter any number\"))\n",
    "summer= 0\n",
    "prod = 1\n",
    "counter = 1\n",
    "\n",
    "while counter<n+1:\n",
    "    summer = summer+counter\n",
    "    prod = prod*counter\n",
    "    counter = counter+1\n",
    "    \n",
    "print(\"the sum is \",sum,\"and product is \",prod)"
   ]
  },
  {
   "cell_type": "markdown",
   "id": "a66951b7",
   "metadata": {},
   "source": [
    "Q3. Create a python program to compute the electricity bill for a household. \n",
    "The per-unit charges in rupees are as follows: For the first 100 units, the user will be charged Rs. 4.5 per  unit, for the next 100 units, the user will be charged Rs. 6 per unit, and for the next 100 units, the user will  be charged Rs. 10 per unit, After 300 units and above the user will be charged Rs. 20 per unit. \n",
    "You are required to take the units of electricity consumed in a month from the user as input. \n",
    "Your program must pass this test case: when the unit of electricity consumed by the user in a month is  310, the total electricity bill should be 2250. \n"
   ]
  },
  {
   "cell_type": "code",
   "execution_count": 3,
   "id": "cd8761c7",
   "metadata": {},
   "outputs": [
    {
     "name": "stdout",
     "output_type": "stream",
     "text": [
      "electricity consumed in a month 310\n",
      "electricity bill = 2250.0\n"
     ]
    }
   ],
   "source": [
    "n = int(input(\"electricity consumed in a month \"))\n",
    "\n",
    "if n <=100:\n",
    "    print(\"electricity bill =\",n*4.5)\n",
    "elif n <=200:\n",
    "       print(\"electricity bill =\",(n*4.5)+(n-100)*6)\n",
    "elif n <= 300:\n",
    "       print(\"electricity bill =\",(100*4.5)+(100*6)+(n-200)*10)\n",
    "else:\n",
    "       print(\"electricity bill =\",(100*4.5)+(100*6)+(100*10+(n-300)*20))\n",
    "    \n",
    "    "
   ]
  },
  {
   "cell_type": "markdown",
   "id": "c80bba2d",
   "metadata": {},
   "source": [
    "Q4. Create a list of numbers from 1 to 100. Use for loop and while loop to calculate the cube of each  number and if the cube of that number is divisible by 4 or 5 then append that number in a list and print  that list. \n"
   ]
  },
  {
   "cell_type": "code",
   "execution_count": 4,
   "id": "e5a97f1e",
   "metadata": {
    "scrolled": true
   },
   "outputs": [
    {
     "name": "stdout",
     "output_type": "stream",
     "text": [
      "[2, 4, 5, 6, 8, 10, 12, 14, 15, 16, 18, 20, 22, 24, 25, 26, 28, 30, 32, 34, 35, 36, 38, 40, 42, 44, 45, 46, 48, 50, 52, 54, 55, 56, 58, 60, 62, 64, 65, 66, 68, 70, 72, 74, 75, 76, 78, 80, 82, 84, 85, 86, 88, 90, 92, 94, 95, 96, 98, 100]\n"
     ]
    }
   ],
   "source": [
    "l = []\n",
    "for i in range(1,101):\n",
    "    l.append(i)\n",
    "    \n",
    "\n",
    "\n",
    "new_l = []\n",
    "for i in l:\n",
    "    if i**3 % 4 ==0 or i % 5 == 0:\n",
    "        new_l.append(i)\n",
    "print(new_l)\n",
    "    \n"
   ]
  },
  {
   "cell_type": "code",
   "execution_count": 5,
   "id": "8533ae47",
   "metadata": {},
   "outputs": [
    {
     "name": "stdout",
     "output_type": "stream",
     "text": [
      "[2, 4, 5, 6, 8, 10, 12, 14, 15, 16, 18, 20, 22, 24, 25, 26, 28, 30, 32, 34, 35, 36, 38, 40, 42, 44, 45, 46, 48, 50, 52, 54, 55, 56, 58, 60, 62, 64, 65, 66, 68, 70, 72, 74, 75, 76, 78, 80, 82, 84, 85, 86, 88, 90, 92, 94, 95, 96, 98, 100]\n"
     ]
    }
   ],
   "source": [
    "l = []\n",
    "for i in range(1,101):\n",
    "    l.append(i)\n",
    "\n",
    "    \n",
    "new_l = []\n",
    "counter = 1\n",
    "while counter <= len(l):\n",
    "    if counter**3 % 4 == 0 or counter**3 % 5 == 0:\n",
    "        new_l.append(counter)\n",
    "    counter = counter+1\n",
    "print(new_l)"
   ]
  },
  {
   "cell_type": "markdown",
   "id": "7fdd9daa",
   "metadata": {},
   "source": [
    "Q5.  Write a program to filter count vowels in the below-given string. \n",
    "string = \"I want to become a data scientist\" \n"
   ]
  },
  {
   "cell_type": "code",
   "execution_count": 23,
   "id": "ec1cd803",
   "metadata": {},
   "outputs": [
    {
     "name": "stdout",
     "output_type": "stream",
     "text": [
      "12\n"
     ]
    }
   ],
   "source": [
    "s = \"I want to become a data scientist\"\n",
    "s = s.lower()\n",
    "count = 0\n",
    "for i in range(0,len(s)):\n",
    "    if s[i] == \"a\" or s[i] == \"e\" or s[i] == \"i\" or s[i] == \"o\"  or s[i] == \"u\":\n",
    "        count = count+1\n",
    "print(count)"
   ]
  },
  {
   "cell_type": "code",
   "execution_count": null,
   "id": "5355fafa",
   "metadata": {},
   "outputs": [],
   "source": []
  }
 ],
 "metadata": {
  "kernelspec": {
   "display_name": "Python 3 (ipykernel)",
   "language": "python",
   "name": "python3"
  },
  "language_info": {
   "codemirror_mode": {
    "name": "ipython",
    "version": 3
   },
   "file_extension": ".py",
   "mimetype": "text/x-python",
   "name": "python",
   "nbconvert_exporter": "python",
   "pygments_lexer": "ipython3",
   "version": "3.10.9"
  }
 },
 "nbformat": 4,
 "nbformat_minor": 5
}
